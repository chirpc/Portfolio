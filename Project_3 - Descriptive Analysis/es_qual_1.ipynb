{
 "cells": [
  {
   "cell_type": "markdown",
   "id": "a8e31d91",
   "metadata": {},
   "source": [
    "# LRES\n",
    "\n",
    "## Questionnaire: Qualitative"
   ]
  },
  {
   "cell_type": "code",
   "execution_count": 1,
   "id": "784c7512",
   "metadata": {},
   "outputs": [],
   "source": [
    "#import import_ipynb\n",
    "#import os\n",
    "import pandas as pd\n",
    "import numpy as np\n",
    "from scipy import stats\n",
    "import igraph as ig\n",
    "import matplotlib.pyplot as plt\n",
    "import seaborn as sns \n",
    "import plotly.express as px\n",
    "import random\n",
    "from numpy import random as nprando\n",
    "from datetime import datetime, date, time, timedelta\n",
    "import pyreadstat\n",
    "from tabulate import tabulate\n",
    "\n",
    "######################################################################################### \n",
    "\n",
    "##SETUP##\n",
    "sns.set()\n",
    "nprando.seed(111)\n",
    "plt.rcParams.update(plt.rcParamsDefault)\n",
    "plt.rcParams.update({'figure.figsize': (12, 8)})\n",
    "pd.set_option(\"display.max_columns\",None)\n"
   ]
  },
  {
   "cell_type": "markdown",
   "id": "2d29aee3",
   "metadata": {},
   "source": [
    "#### DEMOGRAPHICS"
   ]
  },
  {
   "cell_type": "code",
   "execution_count": 2,
   "id": "9e26501b",
   "metadata": {},
   "outputs": [],
   "source": [
    "D1 = {'Age': ['18 – 35','35 - 45', '45 - 55', '55 - 65', '65 - 75', '+75', 'Total'],\n",
    "      'Female': [2, 4, 9, 8, 9, 4, 36],\n",
    "      'Male': [5, 4, 3, 5, 3, 2, 22],\n",
    "     'Total': [7, 8, 12, 13, 12, 6, 58]}\n",
    "\n",
    "D1_2 = {'Age': ['18 – 35','35 - 45', '45 - 55', '55 - 65', '65 - 75', '+75','18 – 35','35 - 45', '45 - 55', '55 - 65', '65 - 75', '+75'],\n",
    "      'value': [2, 4, 9, 8, 9, 4, 5, 4, 3, 5, 3, 2],\n",
    "      'Gender': ['Female', 'Female','Female','Female','Female','Female', 'Male','Male','Male','Male','Male','Male']}\n",
    "\n",
    "df_d1 = pd.DataFrame(D1, columns=['Age','Female','Male', 'Total'])\n",
    "\n",
    "df_d1.set_index('Age', drop=True, inplace=True)\n",
    "\n",
    "#print(tabulate(df_d1, headers=['Age', 'Female','Male', '\\033[1m' +'Total'+ '\\033[0m'], tablefmt='fancy_grid' ))"
   ]
  },
  {
   "cell_type": "code",
   "execution_count": 3,
   "id": "1a9d2ee8",
   "metadata": {},
   "outputs": [],
   "source": [
    "df_d1_1=df_d1.drop('Total')\n",
    "df_d1_1 = df_d1_1.reset_index(drop=False)"
   ]
  },
  {
   "cell_type": "code",
   "execution_count": 4,
   "id": "2bb5c4f8",
   "metadata": {},
   "outputs": [
    {
     "data": {
      "text/html": [
       "<div>\n",
       "<style scoped>\n",
       "    .dataframe tbody tr th:only-of-type {\n",
       "        vertical-align: middle;\n",
       "    }\n",
       "\n",
       "    .dataframe tbody tr th {\n",
       "        vertical-align: top;\n",
       "    }\n",
       "\n",
       "    .dataframe thead th {\n",
       "        text-align: right;\n",
       "    }\n",
       "</style>\n",
       "<table border=\"1\" class=\"dataframe\">\n",
       "  <thead>\n",
       "    <tr style=\"text-align: right;\">\n",
       "      <th></th>\n",
       "      <th>variable</th>\n",
       "      <th>value</th>\n",
       "      <th>pct</th>\n",
       "    </tr>\n",
       "  </thead>\n",
       "  <tbody>\n",
       "    <tr>\n",
       "      <th>0</th>\n",
       "      <td>Female</td>\n",
       "      <td>36</td>\n",
       "      <td>62.068966</td>\n",
       "    </tr>\n",
       "    <tr>\n",
       "      <th>1</th>\n",
       "      <td>Male</td>\n",
       "      <td>22</td>\n",
       "      <td>37.931034</td>\n",
       "    </tr>\n",
       "  </tbody>\n",
       "</table>\n",
       "</div>"
      ],
      "text/plain": [
       "  variable  value        pct\n",
       "0   Female     36  62.068966\n",
       "1     Male     22  37.931034"
      ]
     },
     "execution_count": 4,
     "metadata": {},
     "output_type": "execute_result"
    }
   ],
   "source": [
    "df_gen_long = pd.melt(df_d1_1, id_vars=['Age'], value_vars=['Female','Male'])\n",
    "\n",
    "#df_gen=df_ind_d_1[['bl_id_best_gen']]\n",
    "#df_gen_long_g = df_gen_long.groupby(['variable']).value_counts().rename('count').reset_index()\n",
    "\n",
    "df_gen_long_g = df_gen_long[['variable','value']].groupby(['variable']).sum().reset_index()\n",
    "\n",
    "#print(sum(df_gen_long_g['value']))\n",
    "df_gen_long_g['pct'] = df_gen_long_g['value']/sum(df_gen_long_g['value'])*100\n",
    "df_gen_long_g"
   ]
  },
  {
   "cell_type": "code",
   "execution_count": 5,
   "id": "f5d94d41",
   "metadata": {
    "scrolled": true
   },
   "outputs": [
    {
     "data": {
      "image/png": "[encoded data removed]",
      "text/plain": [
       "<Figure size 400x400 with 1 Axes>"
      ]
     },
     "metadata": {},
     "output_type": "display_data"
    }
   ],
   "source": [
    "#\n",
    "colors =sns.color_palette(\"hls\")[0:4]\n",
    "labels = df_gen_long_g['variable'].to_list()\n",
    "explodes= (0.05,0.05)\n",
    "\n",
    "#plt.rcParams[\"figure.autolayout\"] =True\n",
    "plt.rcParams[\"figure.figsize\"]=[4,4]\n",
    "sns.set_style(\"whitegrid\")\n",
    "\n",
    "plt.pie(df_gen_long_g['pct'], labels=labels,colors=colors,  pctdistance=0.85, autopct='%.1f%%')\n",
    "\n",
    "centre = plt.Circle((0,0), 0.6, fc='white')\n",
    "fig = plt.gcf()\n",
    "fig.gca().add_artist(centre)#plt.legend(bbox_to_anchor=(1.02,1), loc='upper left', borderaxespad=0)\n",
    "#plt.title(['Treatment', 'Control'])\n",
    "#plt.suptitle('Gender', fontsize=14)\n",
    "plt.xlabel('')\n",
    "#plt.ylabel('')\n",
    "##legends\n",
    "#h,l = ax.get_legend_handles_labels()\n",
    "#col_lgd = plt.legend(bbox_to_anchor=(1.02,1), loc='upper left', borderaxespad=0)\n",
    "#plt.gca().add_artist(col_lgd)\n",
    "plt.savefig(\"ql_gender.svg\")\n",
    "plt.show()\n",
    "\n",
    "plt.close()"
   ]
  },
  {
   "cell_type": "code",
   "execution_count": 6,
   "id": "9c004076",
   "metadata": {
    "scrolled": true
   },
   "outputs": [
    {
     "name": "stdout",
     "output_type": "stream",
     "text": [
      "--------\n",
      "\u001b[1mOutcome (derived): \u001b[0mTable 2: Demographic characteristics of study participants\n",
      "\n"
     ]
    },
    {
     "data": {
      "text/html": [
       "<div>\n",
       "<style scoped>\n",
       "    .dataframe tbody tr th:only-of-type {\n",
       "        vertical-align: middle;\n",
       "    }\n",
       "\n",
       "    .dataframe tbody tr th {\n",
       "        vertical-align: top;\n",
       "    }\n",
       "\n",
       "    .dataframe thead th {\n",
       "        text-align: right;\n",
       "    }\n",
       "</style>\n",
       "<table border=\"1\" class=\"dataframe\">\n",
       "  <thead>\n",
       "    <tr style=\"text-align: right;\">\n",
       "      <th></th>\n",
       "      <th>Age</th>\n",
       "      <th>value</th>\n",
       "      <th>pct</th>\n",
       "    </tr>\n",
       "  </thead>\n",
       "  <tbody>\n",
       "    <tr>\n",
       "      <th>0</th>\n",
       "      <td>+75</td>\n",
       "      <td>6</td>\n",
       "      <td>10.344828</td>\n",
       "    </tr>\n",
       "    <tr>\n",
       "      <th>1</th>\n",
       "      <td>18 – 35</td>\n",
       "      <td>7</td>\n",
       "      <td>12.068966</td>\n",
       "    </tr>\n",
       "    <tr>\n",
       "      <th>2</th>\n",
       "      <td>35 - 45</td>\n",
       "      <td>8</td>\n",
       "      <td>13.793103</td>\n",
       "    </tr>\n",
       "    <tr>\n",
       "      <th>3</th>\n",
       "      <td>45 - 55</td>\n",
       "      <td>12</td>\n",
       "      <td>20.689655</td>\n",
       "    </tr>\n",
       "    <tr>\n",
       "      <th>4</th>\n",
       "      <td>55 - 65</td>\n",
       "      <td>13</td>\n",
       "      <td>22.413793</td>\n",
       "    </tr>\n",
       "    <tr>\n",
       "      <th>5</th>\n",
       "      <td>65 - 75</td>\n",
       "      <td>12</td>\n",
       "      <td>20.689655</td>\n",
       "    </tr>\n",
       "  </tbody>\n",
       "</table>\n",
       "</div>"
      ],
      "text/plain": [
       "       Age  value        pct\n",
       "0      +75      6  10.344828\n",
       "1  18 – 35      7  12.068966\n",
       "2  35 - 45      8  13.793103\n",
       "3  45 - 55     12  20.689655\n",
       "4  55 - 65     13  22.413793\n",
       "5  65 - 75     12  20.689655"
      ]
     },
     "execution_count": 6,
     "metadata": {},
     "output_type": "execute_result"
    }
   ],
   "source": [
    "print(\"--------\" + \"\\n\" + '\\033[1m' + 'Outcome (derived): ' + '\\033[0m' + 'Table 2: Demographic characteristics of study participants' + \"\\n\")\n",
    "df_gen_long1 = pd.melt(df_d1_1, id_vars=['Age'], value_vars=['Female','Male'])\n",
    "df_gen_long1\n",
    "\n",
    "df_gen_long_g1 = df_gen_long1[['Age','value']].groupby(['Age']).sum().reset_index()\n",
    "\n",
    "#print(sum(df_gen_long_g['value']))\n",
    "df_gen_long_g1['pct'] = df_gen_long_g1['value']/sum(df_gen_long_g1['value'])*100\n",
    "df_gen_long_g1"
   ]
  },
  {
   "cell_type": "code",
   "execution_count": 7,
   "id": "1da0427d",
   "metadata": {},
   "outputs": [
    {
     "data": {
      "image/png": "[encoded data removed]",
      "text/plain": [
       "<Figure size 600x300 with 1 Axes>"
      ]
     },
     "metadata": {},
     "output_type": "display_data"
    }
   ],
   "source": [
    "###### df_age2 = df_age2.set_index(\"bl_id_best_age_intervals\", drop=False)\n",
    "#df_age2 = df_age2.drop(\"Don't know\")\n",
    "\n",
    "sns.set_palette(\"hls\",6)\n",
    "#plt.rcParams[\"figure.autolayout\"] =True\n",
    "plt.rcParams[\"figure.figsize\"]=[6,3]\n",
    "sns.set_style(\"whitegrid\")\n",
    "ax=sns.barplot(data=df_gen_long_g1, y=\"Age\", x='pct')\n",
    "plt.title('', fontsize=12)\n",
    "plt.xlabel('%',fontsize=8)\n",
    "plt.ylabel('')\n",
    "plt.xticks(fontsize=7)\n",
    "plt.yticks(fontsize=7)\n",
    "##legends\n",
    "#h,l = ax.get_legend_handles_labels()\n",
    "#col_lgd = plt.legend( loc='upper right', title='', fontsize=8)\n",
    "#plt.gca().add_artist(col_lgd)\n",
    "plt.savefig(\"ql_demographics_3.svg\")\n",
    "plt.show()\n",
    "\n",
    "plt.close()"
   ]
  },
  {
   "cell_type": "code",
   "execution_count": 8,
   "id": "618ac7f7",
   "metadata": {},
   "outputs": [
    {
     "name": "stdout",
     "output_type": "stream",
     "text": [
      "--------\n",
      "\u001b[1mOutcome (derived): \u001b[0mTable 3: Status of participants in relation to the claim\n",
      "\n"
     ]
    },
    {
     "data": {
      "text/html": [
       "<div>\n",
       "<style scoped>\n",
       "    .dataframe tbody tr th:only-of-type {\n",
       "        vertical-align: middle;\n",
       "    }\n",
       "\n",
       "    .dataframe tbody tr th {\n",
       "        vertical-align: top;\n",
       "    }\n",
       "\n",
       "    .dataframe thead th {\n",
       "        text-align: right;\n",
       "    }\n",
       "</style>\n",
       "<table border=\"1\" class=\"dataframe\">\n",
       "  <thead>\n",
       "    <tr style=\"text-align: right;\">\n",
       "      <th></th>\n",
       "      <th>Status</th>\n",
       "      <th>Number</th>\n",
       "      <th>pct</th>\n",
       "    </tr>\n",
       "  </thead>\n",
       "  <tbody>\n",
       "    <tr>\n",
       "      <th>0</th>\n",
       "      <td>ODI</td>\n",
       "      <td>13</td>\n",
       "      <td>22.413793</td>\n",
       "    </tr>\n",
       "    <tr>\n",
       "      <th>1</th>\n",
       "      <td>ODI child</td>\n",
       "      <td>22</td>\n",
       "      <td>37.931034</td>\n",
       "    </tr>\n",
       "    <tr>\n",
       "      <th>2</th>\n",
       "      <td>ODI granchild</td>\n",
       "      <td>12</td>\n",
       "      <td>20.689655</td>\n",
       "    </tr>\n",
       "    <tr>\n",
       "      <th>3</th>\n",
       "      <td>ODI great granchild</td>\n",
       "      <td>11</td>\n",
       "      <td>18.965517</td>\n",
       "    </tr>\n",
       "  </tbody>\n",
       "</table>\n",
       "</div>"
      ],
      "text/plain": [
       "                Status  Number        pct\n",
       "0                  ODI      13  22.413793\n",
       "1            ODI child      22  37.931034\n",
       "2        ODI granchild      12  20.689655\n",
       "3  ODI great granchild      11  18.965517"
      ]
     },
     "execution_count": 8,
     "metadata": {},
     "output_type": "execute_result"
    }
   ],
   "source": [
    "D2 = {'Status': ['ODI','ODI child', 'ODI granchild', 'ODI great granchild'],\n",
    "      'Number': [13, 22, 12, 11]}\n",
    "\n",
    "df_d2 = pd.DataFrame(D2, columns=['Status','Number'])\n",
    "\n",
    "#df_d2.set_index('Status', drop=True, inplace=True)\n",
    "\n",
    "#print(tabulate(df_d2, headers=['Status','Number'], tablefmt='fancy_grid' ))\n",
    "print(\"--------\" + \"\\n\" + '\\033[1m' + 'Outcome (derived): ' + '\\033[0m' + 'Table 3: Status of participants in relation to the claim' + \"\\n\")\n",
    "\n",
    "\n",
    "df_d2['pct'] = df_d2['Number']/sum(df_d2['Number'])*100\n",
    "df_d2\n"
   ]
  },
  {
   "cell_type": "code",
   "execution_count": 9,
   "id": "fd966b98",
   "metadata": {},
   "outputs": [
    {
     "data": {
      "image/png": "[encoded data removed]",
      "text/plain": [
       "<Figure size 600x200 with 1 Axes>"
      ]
     },
     "metadata": {},
     "output_type": "display_data"
    }
   ],
   "source": [
    "plt.rcParams[\"figure.figsize\"]=[6,2]\n",
    "sns.set_palette(\"hls\",4)\n",
    "plt.rcParams[\"figure.autolayout\"] =True\n",
    "sns.set_style(\"whitegrid\")\n",
    "#ax= df_unemp_g.pivot(index='bl_i_unemex', columns='count',values='pct').plot(kind='barh', stacked=True, rot=90)\n",
    "ax = sns.barplot(data=df_d2, y='Status', x='pct')\n",
    "#plt.xlim(0,1)\n",
    "#ax = df_unemp_g.plot.barh(stacked=True)\n",
    "#ax.axes.get_xaxis().set_visible(False)\n",
    "#table = ax.tables[0]\n",
    "#plt.title('Number of Surveyed Individuals', fontsize=12)\n",
    "plt.xlabel('(%)', fontsize=8)\n",
    "plt.ylabel('')\n",
    "plt.xticks(fontsize=7)\n",
    "plt.yticks(fontsize=7)\n",
    "##legends\n",
    "#h,l = ax.get_legend_handles_labels()\n",
    "#col_lgd = plt.legend(bbox_to_anchor=(1.02,1), loc='upper left', borderaxespad=0)\n",
    "#plt.gca().add_artist(col_lgd)\n",
    "plt.savefig(\"ql_status_1.svg\")\n",
    "plt.show()"
   ]
  },
  {
   "cell_type": "code",
   "execution_count": 10,
   "id": "5ef72c43",
   "metadata": {
    "scrolled": false
   },
   "outputs": [
    {
     "name": "stdout",
     "output_type": "stream",
     "text": [
      "--------\n",
      "\u001b[1mOutcome (derived): \u001b[0mTable 4: Main sources of beneficiary income\n",
      "\n"
     ]
    },
    {
     "data": {
      "text/html": [
       "<div>\n",
       "<style scoped>\n",
       "    .dataframe tbody tr th:only-of-type {\n",
       "        vertical-align: middle;\n",
       "    }\n",
       "\n",
       "    .dataframe tbody tr th {\n",
       "        vertical-align: top;\n",
       "    }\n",
       "\n",
       "    .dataframe thead th {\n",
       "        text-align: right;\n",
       "    }\n",
       "</style>\n",
       "<table border=\"1\" class=\"dataframe\">\n",
       "  <thead>\n",
       "    <tr style=\"text-align: right;\">\n",
       "      <th>Source</th>\n",
       "      <th>Retirement pension</th>\n",
       "      <th>Old age grant</th>\n",
       "      <th>Child grant</th>\n",
       "      <th>Self-employed</th>\n",
       "      <th>Employed full-time</th>\n",
       "      <th>Employed part-time</th>\n",
       "      <th>Gov grant and one other source</th>\n",
       "      <th>Gov grant and two other sources</th>\n",
       "      <th>Other source</th>\n",
       "      <th>More than one other source</th>\n",
       "    </tr>\n",
       "  </thead>\n",
       "  <tbody>\n",
       "    <tr>\n",
       "      <th>ODI</th>\n",
       "      <td>2</td>\n",
       "      <td>8</td>\n",
       "      <td>0</td>\n",
       "      <td>0</td>\n",
       "      <td>0</td>\n",
       "      <td>1</td>\n",
       "      <td>2</td>\n",
       "      <td>0</td>\n",
       "      <td>0</td>\n",
       "      <td>0</td>\n",
       "    </tr>\n",
       "    <tr>\n",
       "      <th>Child</th>\n",
       "      <td>0</td>\n",
       "      <td>10</td>\n",
       "      <td>0</td>\n",
       "      <td>1</td>\n",
       "      <td>4</td>\n",
       "      <td>2</td>\n",
       "      <td>2</td>\n",
       "      <td>1</td>\n",
       "      <td>1</td>\n",
       "      <td>1</td>\n",
       "    </tr>\n",
       "    <tr>\n",
       "      <th>Grandchild</th>\n",
       "      <td>0</td>\n",
       "      <td>0</td>\n",
       "      <td>1</td>\n",
       "      <td>2</td>\n",
       "      <td>2</td>\n",
       "      <td>3</td>\n",
       "      <td>0</td>\n",
       "      <td>0</td>\n",
       "      <td>0</td>\n",
       "      <td>2</td>\n",
       "    </tr>\n",
       "    <tr>\n",
       "      <th>Great grandchild</th>\n",
       "      <td>0</td>\n",
       "      <td>0</td>\n",
       "      <td>2</td>\n",
       "      <td>0</td>\n",
       "      <td>1</td>\n",
       "      <td>0</td>\n",
       "      <td>0</td>\n",
       "      <td>0</td>\n",
       "      <td>3</td>\n",
       "      <td>0</td>\n",
       "    </tr>\n",
       "  </tbody>\n",
       "</table>\n",
       "</div>"
      ],
      "text/plain": [
       "Source            Retirement pension  Old age grant  Child grant  \\\n",
       "ODI                                2              8            0   \n",
       "Child                              0             10            0   \n",
       "Grandchild                         0              0            1   \n",
       "Great grandchild                   0              0            2   \n",
       "\n",
       "Source            Self-employed  Employed full-time  Employed part-time  \\\n",
       "ODI                           0                   0                   1   \n",
       "Child                         1                   4                   2   \n",
       "Grandchild                    2                   2                   3   \n",
       "Great grandchild              0                   1                   0   \n",
       "\n",
       "Source            Gov grant and one other source  \\\n",
       "ODI                                            2   \n",
       "Child                                          2   \n",
       "Grandchild                                     0   \n",
       "Great grandchild                               0   \n",
       "\n",
       "Source            Gov grant and two other sources  Other source  \\\n",
       "ODI                                             0             0   \n",
       "Child                                           1             1   \n",
       "Grandchild                                      0             0   \n",
       "Great grandchild                                0             3   \n",
       "\n",
       "Source            More than one other source  \n",
       "ODI                                        0  \n",
       "Child                                      1  \n",
       "Grandchild                                 2  \n",
       "Great grandchild                           0  "
      ]
     },
     "execution_count": 10,
     "metadata": {},
     "output_type": "execute_result"
    }
   ],
   "source": [
    "D3 = {'Source': ['Retirement pension','Old age grant', 'Child grant', 'Self-employed','Employed full-time','Employed part-time', 'Gov grant and one other source', 'Gov grant and two other sources','Other source','More than one other source'],\n",
    "      'ODI': [ 2, 8, 0, 0, 0, 1, 2, 0, 0, 0],\n",
    "     'Child': [ 0, 10, 0, 1, 4, 2, 2, 1, 1, 1],\n",
    "     'Grandchild': [ 0, 0, 1, 2, 2, 3, 0, 0, 0, 2],\n",
    "     'Great grandchild': [ 0, 0, 2, 0 , 1, 0, 0, 0, 3, 0]}\n",
    "\n",
    "df_d3 = pd.DataFrame(D3, columns=['Source','ODI','Child', 'Grandchild', 'Great grandchild'])\n",
    "\n",
    "df_d3.set_index('Source', drop=True, inplace=True)\n",
    "\n",
    "#print(tabulate(df_d2, headers=['Status','Number'], tablefmt='fancy_grid' ))\n",
    "print(\"--------\" + \"\\n\" + '\\033[1m' + 'Outcome (derived): ' + '\\033[0m' + 'Table 4: Main sources of beneficiary income' + \"\\n\")\n",
    "\n",
    "df_d3_1 = df_d3.T\n",
    "df_d3_1"
   ]
  },
  {
   "cell_type": "code",
   "execution_count": 14,
   "id": "e57ae0a7",
   "metadata": {},
   "outputs": [
    {
     "data": {
      "image/png": "[encoded data removed]",
      "text/plain": [
       "<Figure size 600x400 with 1 Axes>"
      ]
     },
     "metadata": {},
     "output_type": "display_data"
    }
   ],
   "source": [
    "#\n",
    "\n",
    "sns.set_palette(\"hls\",10)\n",
    "plt.rcParams[\"figure.autolayout\"] =True\n",
    "plt.rcParams[\"figure.figsize\"]=[6,4]\n",
    "sns.set_style(\"whitegrid\")\n",
    "ax = df_d3_1.plot.barh(stacked=True)\n",
    "#ax.axes.get_xaxis().set_visible(False)\n",
    "#table = ax.tables[0]\n",
    "plt.title('', fontsize=12)\n",
    "#plt.title('Access', fontsize=12)\n",
    "plt.ylabel('')\n",
    "plt.xlabel('(%)', fontsize=8)\n",
    "plt.xticks(fontsize=8)\n",
    "plt.yticks(fontsize=8)\n",
    "\n",
    "##legends\n",
    "h,l = ax.get_legend_handles_labels()\n",
    "col_lgd = plt.legend(loc='upper right', fontsize=8)\n",
    "plt.gca().add_artist(col_lgd)\n",
    "\n",
    "#Table\n",
    "'''tableRowLength = len(df_d3_1.columns)\n",
    "tableColLength = len(df_d3_1.index)\n",
    "cellWidth = table.get_celld()[(1,1)].get_width()\n",
    "cellHeight = table.get_celld()[(1,1)].get_height()\n",
    "for cIx in range(0, tableColLength):\n",
    "    c= table.add_cell(tableRowLength + 1, cIx, cellWidth, cellHeight)\n",
    "    c.set\n",
    "    c.get_text().set_text(df_d3_1.iloc[cIx].sum())\n",
    "'''\n",
    "plt.savefig(\"ql_inc_1.svg\")\n",
    "plt.show()\n",
    "\n",
    "plt.close()\n"
   ]
  },
  {
   "cell_type": "code",
   "execution_count": 12,
   "id": "b2e570f6",
   "metadata": {},
   "outputs": [],
   "source": [
    "ws = pd.ExcelWriter('es_ql_2.xlsx', engine='xlsxwriter')\n",
    "df_gen_long_g.to_excel(ws, sheet_name='fig 1.2')\n",
    "df_gen_long_g1.to_excel(ws, sheet_name='fig 1.3')\n",
    "df_d3_1.to_excel(ws, sheet_name='fig 1.4')\n",
    "ws.save()"
   ]
  },
  {
   "cell_type": "code",
   "execution_count": 13,
   "id": "827f34c1",
   "metadata": {},
   "outputs": [
    {
     "name": "stderr",
     "output_type": "stream",
     "text": [
      "[NbConvertApp] Converting notebook es_qual_1.ipynb to html\n",
      "[NbConvertApp] Writing 274209 bytes to es_qual_1.html\n"
     ]
    }
   ],
   "source": [
    "!jupyter-nbconvert --no-input --no-prompt --to html es_qual_1.ipynb"
   ]
  }
 ],
 "metadata": {
  "hide_input": false,
  "kernelspec": {
   "display_name": "Python 3 (ipykernel)",
   "language": "python",
   "name": "python3"
  },
  "language_info": {
   "codemirror_mode": {
    "name": "ipython",
    "version": 3
   },
   "file_extension": ".py",
   "mimetype": "text/x-python",
   "name": "python",
   "nbconvert_exporter": "python",
   "pygments_lexer": "ipython3",
   "version": "3.9.12"
  }
 },
 "nbformat": 4,
 "nbformat_minor": 5
}

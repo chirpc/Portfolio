{
 "cells": [
  {
   "cell_type": "markdown",
   "id": "2fa35c75-0154-4a2b-8474-202ad061a140",
   "metadata": {},
   "source": [
    "<h1 align=center> Graph Neural Networks for Fraud Detection in Crypto Transactions (Draft) </h1>\n",
    "<hr>"
   ]
  },
  {
   "cell_type": "code",
   "execution_count": null,
   "id": "7cb82b24-d68c-48e5-980c-0b264f450f13",
   "metadata": {},
   "outputs": [],
   "source": []
  }
 ],
 "metadata": {
  "kernelspec": {
   "display_name": "Python 3 (ipykernel)",
   "language": "python",
   "name": "python3"
  },
  "language_info": {
   "codemirror_mode": {
    "name": "ipython",
    "version": 3
   },
   "file_extension": ".py",
   "mimetype": "text/x-python",
   "name": "python",
   "nbconvert_exporter": "python",
   "pygments_lexer": "ipython3",
   "version": "3.9.16"
  }
 },
 "nbformat": 4,
 "nbformat_minor": 5
}

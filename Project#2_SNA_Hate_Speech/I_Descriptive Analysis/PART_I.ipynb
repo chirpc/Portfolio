{
 "cells": [
  {
   "cell_type": "markdown",
   "id": "92d462d4",
   "metadata": {},
   "source": [
    "-------------------------------------------------------------------\n",
    "### DESCRIPTIVE ANALYSIS\n"
   ]
  },
  {
   "cell_type": "markdown",
   "id": "c4fc68f9",
   "metadata": {},
   "source": [
    "\n",
    "A network (graph) describes a collection of nodes (vertices) and the links (edges) between them. A node can represent anything from individuals or firms or countries, or even collections of such entities. A link between two nodes signifies a direct relation between them. For example, in a social context, a link could be a friendship tie, while in the context of countries, a link may be a free trade agreement or a mutual defense pact. In a directed network where there is a clear distinction between source (the sender of a tie) and target (the receiver of the tie), relationships between two nodes are recorded as either asymmetric, mutual,  or null. Asymmetric is when a nomination is unidirectional (i.e. when only one person claims to know/be friends/to have spoken with the other person); a mutual (reciprocal) relation is when both nominate each other; and a null relation is when there is no connection or link that exists. \n"
   ]
  },
  {
   "cell_type": "markdown",
   "id": "42e2c1f5",
   "metadata": {},
   "source": [
    "#### Methods\n",
    "\n"
   ]
  },
  {
   "cell_type": "markdown",
   "id": "eb8bdd20",
   "metadata": {},
   "source": [
    "\n",
    "In social network analysis, a network can be described through its **centrality** and **connectivity and cohesion** properties. \n",
    "\n",
    "Steps in this module are as follows: \n",
    "\n",
    "1. **Centrality Measures** -> to determine relationships between nodes and their position in the network.\n",
    "\n",
    "\n",
    "2. **Connectivity and Cohesion Measures** -> to examine how tightly connected or clustered the network is.\n",
    "\n",
    "\n",
    "3. **Evaluation** -> to test the network for small world properties.\n"
   ]
  },
  {
   "cell_type": "markdown",
   "id": "ab029197",
   "metadata": {},
   "source": [
    "#### 1. CENTRALITY \n",
    "\n",
    "\n",
    "#### 1.1. Node Centrality\n",
    "\n"
   ]
  },
  {
   "cell_type": "markdown",
   "id": "80a1b3f1",
   "metadata": {},
   "source": [
    "\n",
    "Node centrality is a general measure of a nodes \"importance\" within a network and is often defined in terms of:\n",
    "\n",
    ">**Degree**: Number of nodes a node is connected to (both sending and receiving ties).\n",
    "\n",
    ">**Indegree**: Number of nodes nominating a node (receiving a tie).\n",
    "\n",
    ">**Outdegree**: Number of nodes a node nominates (sending a tie).\n",
    "\n",
    ">**Closeness**: Proximity to each node in the network. \n",
    "\n",
    ">**Betweenness**: Frequency at which this node connects every other node in the network using the shortest path.\n",
    "\n",
    ">**PageRank**: Number of important nodes a node is connected to.\n",
    "\n",
    ">**Eccentricity**: Maximum shortest distance from (or to) a node, to (or from) all other nodes in the graph.\n",
    "\n",
    "\n"
   ]
  },
  {
   "cell_type": "markdown",
   "id": "059705cd",
   "metadata": {},
   "source": [
    "#### 1.2. Network Centrality\n",
    " "
   ]
  },
  {
   "cell_type": "markdown",
   "id": "5682a7a2",
   "metadata": {},
   "source": [
    "\n",
    "Network centrality is a measure of a node's ties relative to the ties present in the network and the distribution of ties throughout the network. For example, we can determine the extent to which the \"importance\" of a node in a network or the \"power\" of a node in a network is concentrated in a few nodes by examining whether the network's degree distribution is normally distributed or skewed. \n",
    "\n",
    ">**Degree distribution**: Frequency distribution of degree values of nodes. A skewed degree distribution, where there are a few high degree (popular) nodes and many low degree (periphery) nodes, is evidence of preferential attachment (i.e. the more connected a node is, the more likely it is to make new connections), and therefore concentrated power.\n",
    "\n",
    ">**Density**: Volume of connections in a network. It is the number of ties relative to the number of all possible ties. A density is 0 for a graph without edges and 1 for a complete graph.\n",
    "\n",
    ">**Average Path Length**: Average shortest (geodesic) distance between each starting and ending node (i.e. the average number of steps one has to take across the network for connecting two separate individuals).\n",
    "\n"
   ]
  },
  {
   "cell_type": "markdown",
   "id": "637c8601",
   "metadata": {},
   "source": [
    "\n",
    "#### 2. CONNECTIVITY AND COHESION \n"
   ]
  },
  {
   "cell_type": "markdown",
   "id": "60349aa9",
   "metadata": {},
   "source": [
    "\n",
    "Connectivity and cohesion properties refer to the direction, frequency and consistency of relations between nodes and the nodes in their neighbourhood [a personal or ego network that only includes nodes a node is connected to]. This includes the study of dyads (relations between 2-nodes), triads (relations between 3-nodes), clusters and cliques (subset of densely connected ties or subgraphs). This is can be examined in the following measures:\n",
    "\n",
    ">**Reciprocity**: Ratio of nodes in a nodes neighbourhood that a node is connected to that reciprocate ties.\n",
    "\n",
    ">**Transitivity**: Fraction of all triangles in a nodes neighbourhood where a node is connected to a node that is connected to another node that it is also connected to (e.g a friend of a friend is a friend).\n",
    "\n",
    ">**Hierarchal Agreement**: Number of triads in a nodes neighbourhood where there is a consensus on the directionality of ties (e.g. many subordinates nominating one boss or followers nominating one leader).\n",
    "\n",
    "\n",
    "The structural cohesion of a network can be defined as the minimum number of actors who, if removed from the network, would disconnect it. One way to measure overall network cohesion is through the *Clustering Coefficient*. This measure offers a sense of the number of routes and paths available in connecting the network. \n",
    "\n",
    ">**Clustering Coefficient**: Extent to which links in a network follow a transitive property (i.e. likelihood of node *i* being connected to node *k* given that *i* is connected to *j* and *j* is connected to *k*). This captures how tightly knit or cohesive the network is.\n",
    "\n",
    "A related measure, but not covered in this analysis, describes a network by its similarity to connected node attributes. \n",
    "\n",
    ">**Homophily**: Tendency for nodes with similar attributes to be more likely connected with each other then with nodes of dissimilar attributes.\n"
   ]
  },
  {
   "cell_type": "markdown",
   "id": "f3a47540",
   "metadata": {},
   "source": [
    "#### 3. EVALUATION\n"
   ]
  },
  {
   "cell_type": "markdown",
   "id": "b34a6f09",
   "metadata": {},
   "source": [
    "\n",
    "Descriptive measures are not on their own intuitive. As such, a good heuristic to follow when evaluating a network is to assess how much of the current network's features are simulated by a random process, and how closely they resemble a small world. Introduced by Watts and Strogatz (1998), a small world embodies the idea that that unlike random networks of the same size, large networks tend to have a small diameter or small **Average Path Length** and a high **Clustering Coefficient**.  "
   ]
  },
  {
   "cell_type": "markdown",
   "id": "ae129695",
   "metadata": {},
   "source": [
    "#### 4. REFERENCES"
   ]
  },
  {
   "cell_type": "markdown",
   "id": "866fea74",
   "metadata": {},
   "source": [
    "Goyal, Sanjeev., Connections: An Introduction to the Economics of Networks, Princeton, NJ: Princeton University\n",
    "Press, 2007.\n",
    "\n",
    "Jackson, Matthew O., Social and Economic Networks, Princeton, NJ: Princeton University Press, 2008.\n",
    "\n",
    "Wasserman, Stanley and Katherine Faust, Social Network Analysis, New York, NY: Cambridge University\n",
    "Press, 2007.\n",
    "\n",
    "Watts, Duncan J., Small Worlds: the dynamics of networks between order and randomness, Princeton, NJ: Princeton University Press, 2005.\n",
    "\n",
    "Copeland, Molly., \"Whole Network Descriptive Statistics,\" Social Networks and Health Workshop, 2019. Available at: https://sites.duke.edu/dnac/07-whole-network-descriptive-statistics/"
   ]
  }
 ],
 "metadata": {
  "hide_input": true,
  "kernelspec": {
   "display_name": "Python 3 (ipykernel)",
   "language": "python",
   "name": "python3"
  },
  "language_info": {
   "codemirror_mode": {
    "name": "ipython",
    "version": 3
   },
   "file_extension": ".py",
   "mimetype": "text/x-python",
   "name": "python",
   "nbconvert_exporter": "python",
   "pygments_lexer": "ipython3",
   "version": "3.9.12"
  }
 },
 "nbformat": 4,
 "nbformat_minor": 5
}

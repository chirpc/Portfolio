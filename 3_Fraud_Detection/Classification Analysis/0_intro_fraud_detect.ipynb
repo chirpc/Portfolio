{
 "cells": [
  {
   "cell_type": "markdown",
   "id": "2fa35c75-0154-4a2b-8474-202ad061a140",
   "metadata": {},
   "source": [
    "<h1 align=center> Graph Neural Networks for Fraud Detection in Crypto Transactions (Draft) </h1>\n",
    "<hr>"
   ]
  },
  {
   "cell_type": "code",
   "execution_count": 2,
   "id": "7cb82b24-d68c-48e5-980c-0b264f450f13",
   "metadata": {},
   "outputs": [],
   "source": [
    "##LIBRARIES##\n",
    "import os\n",
    "os.environ['KMP_DUPLICATE_LIB_OK']='True'\n",
    "import warnings\n",
    "warnings.filterwarnings('ignore')\n",
    "import pandas as pd\n",
    "import matplotlib.pyplot as plt\n",
    "%matplotlib inline\n",
    "import seaborn as sns\n",
    "import numpy as np\n",
    "import random\n",
    "import math\n",
    "import pickle\n",
    "\n",
    "#ML\n",
    "from sklearn.preprocessing import StandardScaler, LabelEncoder, OneHotEncoder, KBinsDiscretizer\n",
    "from sklearn.impute import SimpleImputer\n",
    "from sklearn.pipeline import Pipeline\n",
    "\n",
    "#Pytorch\n",
    "import torch\n",
    "import torch.nn as nn\n",
    "import torch.nn.functional as F\n",
    "from torch.optim import SGD\n"
   ]
  },
  {
   "cell_type": "code",
   "execution_count": null,
   "id": "5376b92c-294f-4819-962f-0e6a207a70cb",
   "metadata": {},
   "outputs": [],
   "source": []
  }
 ],
 "metadata": {
  "kernelspec": {
   "display_name": "Python 3 (ipykernel)",
   "language": "python",
   "name": "python3"
  },
  "language_info": {
   "codemirror_mode": {
    "name": "ipython",
    "version": 3
   },
   "file_extension": ".py",
   "mimetype": "text/x-python",
   "name": "python",
   "nbconvert_exporter": "python",
   "pygments_lexer": "ipython3",
   "version": "3.9.16"
  }
 },
 "nbformat": 4,
 "nbformat_minor": 5
}

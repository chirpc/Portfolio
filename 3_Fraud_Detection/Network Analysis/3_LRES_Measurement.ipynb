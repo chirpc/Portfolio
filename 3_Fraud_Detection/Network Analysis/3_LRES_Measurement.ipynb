{
 "cells": [
  {
   "cell_type": "markdown",
   "id": "92d462d4",
   "metadata": {},
   "source": [
    "## SOCIAL NETWORK ANALYSIS\n"
   ]
  },
  {
   "cell_type": "markdown",
   "id": "c4fc68f9",
   "metadata": {},
   "source": [
    "Networks form the building blocks of any group of people, organisations, entities; basically anything that can be defined as having a relation. Often the objective of social network analysis is to obtain a better understanding of the behaviour and influence of the systems they represent and the systems they interact with. Ultimately, it is about finding the link between network structure and network function and vice versa. For instance, we can study social networks to better understand the nature of social interactions and their implications for human experience, commerce, the spread of disease, and the structure of society. In many social science studies, the value of social networks is expressed in how the degree to which a group of people are socially connected with each other reinforces beliefs that are commonly held, and how this could help transmit novel information that could change the dynamics of the interaction and potentially alter outcomes. Therefore, programmes that rely on the relationships, interactions, and cooperation of people to succeed can take advantage of the network structure of targeted communities. In other words, knowing which people, positions, and groups to target in a community can be critical to achieve higher rates of efficiency in interventions.  \n",
    "\n",
    "Notable studies on the role of social networks include:\n",
    "- labour market participation in referral networks and migrant communities;\n",
    "- drug use and school attendance in student networks;\n",
    "- policy views of electoral candidates and coalitions in discourse networks;\n",
    "- advocacy of climate change in social media networks;\n",
    "- spread of infectious diseases and financial crises in contagion networks;\n",
    "- adoption and support of new technologies in global networks and local farming networks.\n",
    "\n",
    "\n",
    "#### Definition\n",
    "A network (graph) describes a collection of nodes (vertices) and the links (edges) between them. A node can represent anything from individuals or firms or countries, or even collections of such entities. A link between two nodes signifies a direct relation between them like a link between two friends. Some terminology:\n",
    "- A *directed network* is where there is a clear distinction between source (the sender of a tie) and target (the receiver of the tie), relationships between two nodes are recorded as either asymmetric, mutual,  or null. Asymmetric is when a nomination is unidirectional (i.e. when only one person claims to know/be friends/to have spoken with the other person); a mutual (reciprocal) relation is when both nominate each other; and a null relation is when there is no connection or link that exists. \n",
    "- An *undirected network* makes no distinction between sender (the person who contacted someone else for support or advice) and target (the person who had been contacted for support or advice). Simply, once someone says they know someone, we assume the reverse, that the other person knows them.\n",
    "- A *connected component* is a complete network or sub-network where every node is atleast connected to one other node, i.e. there must exist a path such that any two nodes can be connected starting from point *A* to point *Z*. If there exists a node *K* in the network where it is not possible to connect a path between any other node in the network, then we say the network is disconnected. \n",
    "- A *giant component* is the subnetwork found by extracting the component with the largest number of connected nodes in the network."
   ]
  },
  {
   "cell_type": "markdown",
   "id": "eb8bdd20",
   "metadata": {},
   "source": [
    "#### Methods\n",
    "\n",
    "When exploring the question of how social networks affect the spread of ideas, norms, and behaviour, the first key aspect to consider is a network's structure or topology. Who a person is connected to is who they come into contact with, and therefore who they \"allow\" to have an impact on their behaviour. The extent to which this affects the individual is predicated on how they \"choose\" to come into contact with this person: how close they are, how frequent the contact is, is it through a close knit group of mutual friends or through separate interactions? Given the many factors that determine the diffusion process, a common approach is to examine the network for \"small world\" features. Small worlds characterise a fascinating aspect of large social networks that find that even if nodes in a network are not directly connected, the likelihood that their neighbours are each others neighbours is high. This means any given node in a network can be reached in a small number of steps, which translates to a short average path length and a high clustering coefficient. Naturally, this creates an easy path for diffusion of information, where higher levels of cooperation and  efficiency are more likely. \n",
    "\n",
    "To start, the **centrality** and **connectivity and cohesion** properties are described, then an evaluation of **small world** properties are presented.\n",
    "\n",
    "\n"
   ]
  },
  {
   "cell_type": "markdown",
   "id": "ab029197",
   "metadata": {},
   "source": [
    "#### 1. CENTRALITY\n",
    "\n",
    "##### 1.1 NODE CENTRALITY"
   ]
  },
  {
   "cell_type": "markdown",
   "id": "80a1b3f1",
   "metadata": {},
   "source": [
    "\n",
    "Node centrality is a general measure of a nodes \"importance\" within a network and is often defined in terms of:\n",
    "\n",
    ">**Degree**: Number of nodes a node is connected to (both sending and receiving ties).\n",
    "\n",
    ">**Indegree**: Number of nodes nominating a node (receiving a tie).\n",
    "\n",
    ">**Outdegree**: Number of nodes a node nominates (sending a tie).\n",
    "\n",
    ">**Closeness**: Proximity to each node in the network. \n",
    "\n",
    ">**Betweenness**: The count of how many times a node interupts or lies on the path of shortest distance between two other nodes. (Frequency at which this node connects every other node in the network using the shortest path. )\n",
    "\n",
    ">**Eccentricity**: Maximum shortest distance from (or to) a node, to (or from) all other nodes in the graph.\n",
    "\n",
    ">**PageRank**: A link analysis measure that calculates the importance of a node based on the importance of the nodes connected to it.\n",
    "\n",
    ">**Authority**: A link analysis measure that retrieves the most relevant nodes based on the incoming ties. The more a node is linked to nodes that are recognised as \"hubs\", i.e. primary sources of information, the higher the authority score.\n",
    "\n",
    ">**Hubs**: A link analysis measure that retrieves the most relevant nodes based on the outgoing ties. The more a node is linked to nodes that are recognised as \"authorities\", i.e. primary receivers of information, the higher the hub score.\n",
    "\n",
    "\n",
    "\n"
   ]
  },
  {
   "cell_type": "markdown",
   "id": "059705cd",
   "metadata": {},
   "source": [
    "##### 1.2. NETWORK CENTRALITY\n",
    " "
   ]
  },
  {
   "cell_type": "markdown",
   "id": "5682a7a2",
   "metadata": {},
   "source": [
    "\n",
    "Network centrality is a measure of a node's ties relative to the ties present in the network and the distribution of ties throughout the network. For example, we can determine the extent to which the \"importance\" of a node in a network or the \"power\" of a node in a network is concentrated in a few nodes by examining whether the network's degree distribution is normally distributed or skewed. \n",
    "\n",
    ">**Degree distribution**: Frequency distribution of degree values of nodes. A skewed degree distribution, where there are a few high degree (popular) nodes and many low degree (periphery) nodes, is evidence of preferential attachment (i.e. the more connected a node is, the more likely it is to make new connections), and therefore concentrated power.\n",
    "\n",
    ">**Density**: Volume of connections in a network. It is the number of ties relative to the number of all possible ties. A density is 0 for a graph without edges and 1 for a complete graph.\n",
    "\n",
    ">**Average Path Length**: Average shortest (geodesic) distance between each starting and ending node (i.e. the average number of steps one has to take across the network for connecting two separate individuals).\n",
    "\n",
    ">**Diameter**: Longest of all shortest (geodesic) paths between each starting and ending node (i.e. after calculating all shortest paths, the length that is the furtherest apart from one node to the other is the diameter). This measure is used to guage the overall size of the network or the longest distance it would take to reach the node furtherest away in the network (i.e. the distance from one end of the network to another.).\n"
   ]
  },
  {
   "cell_type": "markdown",
   "id": "637c8601",
   "metadata": {},
   "source": [
    "\n",
    "#### 2. CONNECTIVITY AND COHESION \n",
    "\n",
    "Connectivity and cohesion properties refer to the direction, frequency and consistency of relations between nodes and the nodes in their neighbourhood [a personal or ego network that only includes nodes a node is connected to]. This includes the study of dyads (relations between 2-nodes), triads (relations between 3-nodes), clusters and cliques (subset of densely connected ties or subgraphs), and structural holes (the absence of vital ties or redundancy of close-knit ties). These measures can be examined through the following properties:\n"
   ]
  },
  {
   "cell_type": "markdown",
   "id": "8e1c18e6-d6aa-4bf2-8281-b539f95f0a75",
   "metadata": {},
   "source": [
    "\n",
    "##### 2.1. TRIADs"
   ]
  },
  {
   "cell_type": "markdown",
   "id": "60349aa9",
   "metadata": {},
   "source": [
    "\n",
    "Connectivity and cohesion properties refer to the direction, frequency and consistency of relations between nodes and the nodes in their neighbourhood [a personal or ego network that only includes nodes a node is connected to]. This includes the study of dyads (relations between 2-nodes), triads (relations between 3-nodes), clusters and cliques (subset of densely connected ties or subgraphs), and structural holes (the hole (absence) of vital ties vs redundancy (presence) of close-knit ties). These measures can be examined through the following properties:\n",
    "\n",
    ">**Reciprocity**: Ratio of nodes in a nodes neighbourhood that a node is connected to that reciprocate ties.\n",
    "\n",
    ">**Transitivity**: Fraction of all triangles in a nodes neighbourhood where a node is connected to a node that is connected to another node that it is also connected to (e.g a friend of a friend is a friend). \n",
    "\n",
    ">**Hierarchy**: Number of triads in a nodes neighbourhood where there is a consensus on the directionality of ties (e.g. many subordinates nominating one boss or followers nominating one leader). A high value indicates a high dependency rate where power or information is concentrated in a few nodes.\n",
    "\n",
    ">**Constraint**: The extent to which a node has the same ties as other nodes in their neighbourhood. While having many close redundant ties can offer support for those most vulnerable, it can also constrain those that seek to grow outside of their environment and achieve a competitive advantage.\n"
   ]
  },
  {
   "cell_type": "markdown",
   "id": "451fedf3-e1fd-41d3-9b4b-efeda56d6089",
   "metadata": {},
   "source": [
    "##### 2.2. CLUSTERING"
   ]
  },
  {
   "cell_type": "markdown",
   "id": "447c70a2-7b38-473d-88f9-540633d6a999",
   "metadata": {},
   "source": [
    "The structural cohesion of a network can be defined as the minimum number of actors who, if removed from the network, would disconnect it. A key measure for overall network cohesion is estimated through the *Clustering Coefficient* that indicates the number of routes and paths available in connecting the network. A closely related measure is the articulation point(s) of a graph which represent vulnerabilities in a connected network. These are single points that are vital to the function and resilience of the network. Their removal would lead to a failure or fragmentation of the network.\n",
    "\n",
    ">**Clustering Coefficient**: Extent to which links in a network follow a transitive property (i.e. likelihood of node *i* being connected to node *k* given that *i* is connected to *j* and *j* is connected to *k*). This captures how tightly knit or cohesive the network is.\n",
    "\n",
    ">**Articulation Points**: The point (or cut vertex) is the vertex that if removed would disconnect a connected graph.  \n",
    "\n",
    "Another important structual feature of the network is the extent to which homophilic ties are produced. This occurs when nodes exhibiting similar attributes have a higher than expected likelihood of forming bonds with each other than with nodes that are dissimilar. \n",
    "\n",
    ">**Homophily**: Tendency for nodes with similar attributes to be more likely connected with each other then with nodes of dissimilar attributes.\n",
    "\n",
    ">**Assortitivity**: The similarity of connections in the graph with respect to the node degree. In other words, how similar they are in the number of connections they make.\n",
    "\n"
   ]
  },
  {
   "cell_type": "markdown",
   "id": "f3a47540",
   "metadata": {},
   "source": [
    "#### 3. SMALL WORLDS\n"
   ]
  },
  {
   "cell_type": "markdown",
   "id": "b34a6f09",
   "metadata": {},
   "source": [
    "One way to determine the extent to which ties strengthen collective interest is by assessing the network's interaction structure. Many studies attempt to evaluate the performance of different network structures based on their ability to converge to a cooperative outcome. By comparing different structures, researchers can, for instance, examine whether networks of low fragmentation (high clustering) and short average path length (short distance between individuals) increase efficiency in diffusion of cooperative strategies, similar to those found in small world networks.\n",
    "\n",
    "Descriptive measures are very rarely intutive and should therefore be analysed in conjunction with other features. As such, a good heuristic to follow when evaluating a network is to assess how much of the current network's features are simulated by a random process, and how closely they resemble a small world. Introduced by Watts and Strogatz (1998), a small world embodies the idea that that unlike random networks of the same size, large networks tend to have a small diameter or small **Average Path Length** and a high **Clustering Coefficient**.\n",
    "\n",
    "Two small-world coefficients can be used to evaluate the network:\n",
    "\n",
    "- **Sigma** = C/Cr / L/Lr. \n",
    "> Where C and L are respectively the average clustering coefficient and average shortest path length of G. Cr and Lr are respectively the average clustering coefficient and average shortest path length of an equivalent random graph.\n",
    "> A graph is commonly classified as small-world if sigma>1\n",
    "\n",
    "- **Omega** = Lr/L - C/Cl.\n",
    "> Where C and L are respectively the average clustering coefficient and average shortest path length of G. Lr is the average shortest path length of an equivalent random graph and Cl is the average clustering coefficient of an equivalent lattice graph.\n",
    "> The small-world coefficient (omega) measures how much G is like a lattice or a random graph. Negative values mean G is similar to a lattice whereas positive values mean G is a random graph. Values close to 0 mean that G has small-world characteristics.\n"
   ]
  },
  {
   "cell_type": "markdown",
   "id": "ae129695",
   "metadata": {},
   "source": [
    "#### 4. REFERENCES"
   ]
  },
  {
   "cell_type": "markdown",
   "id": "866fea74",
   "metadata": {},
   "source": [
    "Goyal, Sanjeev., Connections: An Introduction to the Economics of Networks, Princeton, NJ: Princeton University\n",
    "Press, 2007.\n",
    "\n",
    "Jackson, Matthew O., Social and Economic Networks, Princeton, NJ: Princeton University Press, 2008.\n",
    "\n",
    "Wasserman, Stanley and Katherine Faust, Social Network Analysis, New York, NY: Cambridge University\n",
    "Press, 2007.\n",
    "\n",
    "Watts, Duncan J., Small Worlds: the dynamics of networks between order and randomness, Princeton, NJ: Princeton University Press, 2005.\n",
    "\n",
    "Copeland, Molly., \"Whole Network Descriptive Statistics,\" Social Networks and Health Workshop, 2019. Available at: https://sites.duke.edu/dnac/07-whole-network-descriptive-statistics/"
   ]
  },
  {
   "cell_type": "code",
   "execution_count": 1,
   "id": "78df3b4f-962a-46f9-a453-d30d76f9e06e",
   "metadata": {},
   "outputs": [],
   "source": [
    "#!jupyter-nbconvert --no-input --no-prompt --to pdf 3_LRES_Measurement.ipynb"
   ]
  },
  {
   "cell_type": "code",
   "execution_count": null,
   "id": "5c2b4072-8510-4d35-81f8-78b9b547fc45",
   "metadata": {},
   "outputs": [],
   "source": []
  }
 ],
 "metadata": {
  "hide_input": true,
  "kernelspec": {
   "display_name": "Python 3 (ipykernel)",
   "language": "python",
   "name": "python3"
  },
  "language_info": {
   "codemirror_mode": {
    "name": "ipython",
    "version": 3
   },
   "file_extension": ".py",
   "mimetype": "text/x-python",
   "name": "python",
   "nbconvert_exporter": "python",
   "pygments_lexer": "ipython3",
   "version": "3.9.13"
  }
 },
 "nbformat": 4,
 "nbformat_minor": 5
}

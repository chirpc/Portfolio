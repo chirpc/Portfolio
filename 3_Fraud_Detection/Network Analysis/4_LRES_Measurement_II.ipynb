{
 "cells": [
  {
   "cell_type": "markdown",
   "id": "6c67a4b2",
   "metadata": {},
   "source": [
    "## SOCIAL NETWORK ANALYSIS (PART II)"
   ]
  },
  {
   "cell_type": "markdown",
   "id": "da694245",
   "metadata": {},
   "source": [
    "\n",
    "When exploring the question of how social networks affect the spread of ideas, innovation, and behaviour, the first key aspect to consider is a network's structure or topology. Who a person is connected to is who they come into contact with, and therefore who they \"allow\" to have an impact on their behaviour. The extent to which this affects the individual is predicated on how they \"choose\" to come into contact with this person: how close they are, how frequent the contact is, is it through a close knit group of mutual friends or through separate interactions? Given the many factors that determine the diffusion (spread of information) process, a common first step approach is to examine the network for \"small world\" features. Small worlds characterise a fascinating aspect of large social networks that find that even if nodes in a network are not directly connected, the likelihood that their neighbours are each others neighbours is high. This means any given node in a network can be reached in a small number of steps, which translates to a short average path length and a high clustering coefficient. Naturally, this creates an easy path for diffusion of information, where higher levels of cooperation and  efficiency are more likely.  \n",
    "\n",
    "Though exhibiting small world properties, most real world networks display a scale-free degree distribution which basically means the more popular a node is, the more it attracts other nodes. Moreover, when faced with a group of people, each person could have a different degree of connectivity and therefore vary in their threshold or vulnerability to social influence and peer pressure. The implication of this is that when determining a networks most efficient path of diffusion and information flow, we need to consider a node's connectivity and also the connectivity of a nodes closest connections or \"neighbourhood\". In other words, while one person can adopt a behaviour after coming in contact with a single \"infected\" (already adopted) person, another person requires multiple sources of contact with a group of “infected” people before they can be convinced of taking up the behavior. In heavly clustered or dense networks, the presence of redundant (path independent) ties can act as a social reinforcement mechanism (or multiplier effect). First, by quickly circulating information within smaller groups, then, by bridging information across wider-reaching groups. In contrast, when the connections a person makes become heavily reliant on the shared interests, backgrounds, and demographics of the people they are connecting with, then this tendency toward grouping, described as homophily, has much greater implication for the social divisions and social fragmentations caused. Those that do not conform or those that do not exhit certain characteristics are potentially excluded from social and economic benefits that come with having access to information and opportunities. Thus, depending on the degree of systematic exclusion displayed in the network, the presence of homophilic ties can lead to and exacerbate problems of inequality, immobility, and productivity inefficiency (Jackson, 2022).\n",
    "\n",
    "The role that graph partitioning methods play in diffusion problems is very important as they provide us with an efficient way to detect sub-communities and groups within the network. In other words, they gives us a practical way to test how the diffusion process might occur in a network, as well as how members of a community could adopt the same product, converge on an idea, and reach a uniform consensus. It can also give us an indication of how long it would take to converge. For example, when new information is shared within a community, what is the liklihood that only a small subset of people benefit from this information transference or that it reaches the full network. Furthermore, how does this liklihood change when we factor in the person or people that are initial adopters of the idea or product. These type of simulations essentially try to describe a scenario where people emanating from more cohesive networks and people with more connections and influence are more effective in spreading or sharing these ideas. Uncovering cohesive subgroups and communities in a network are especially helpful in shaping the type of interventions necessary to treat low take-up, participation, and cooperation.\n",
    "\n"
   ]
  },
  {
   "cell_type": "markdown",
   "id": "71ea4ad6",
   "metadata": {},
   "source": [
    "#### Definition\n",
    "A group or community is cohesive to the extent that it is robust to disruption. In network science, this is captured by node connectivity.  A few other definitions outlined by Moody and White (2003):  \n",
    "\n",
    "- Definition 1: A collectivity is structurally cohesive to the extent that the social relations of its members hold it together.\n",
    "\n",
    "- Definition 2: A group is structurally cohesive to the extent that multiple independent relational paths among all pairs of members hold it together.\n",
    "\n",
    "#### Methods\n",
    "\n",
    "Networks of people are often made up of subsets that interact more intensely among each other than they do with the rest of the network, and it is often very important in research and analysis to identify or approximate these subsets as best as possible so that they can be studied more closely. \n",
    "\n",
    "To achieve this, we start by applying **vertex partitioning** techniques that allow us to identify the networks core as well as the presence of tightly connected cliques. Next we find the optimal partition point for **community detection** of subcommunities or groups with higher levels of density between each other than with the rest of the network. Lastly, we simlate **community diffusion** models to trace the path of information flow in the network given the communities that nodes are assigned to. We also compare whether this rate and path of diffusion is made more efficient when the process is initiated by people with higher degrees of centrality in the network. \n",
    "\n"
   ]
  },
  {
   "cell_type": "markdown",
   "id": "09932ae5-f6af-4ebf-9d40-0c6ff8fa1d55",
   "metadata": {},
   "source": [
    "#### 1. VERTEX PARTITIONING\n",
    "##### 1.1 Detection"
   ]
  },
  {
   "cell_type": "markdown",
   "id": "490ea184-6a34-4a10-97b4-bed55d5b65de",
   "metadata": {},
   "source": [
    "Often graphs will be connected, but we still want to divide the vertices up into mutually exclusive subgroups of interest. Such a division is called a partition of a graph. In a partition, all vertices must be in one and only one subgroup. Partitions are created through making cuts in a graph.\n",
    "\n",
    ">***What Is A Cut-Set and Cut-Point***\n",
    ">\n",
    ">Cut-sets describe the connectivity of the graph based on the removal of nodes or vertices, while cut-points describe the connectivity of the graph based on the removal of edges.\n",
    ">*k* refers to the number of nodes or lines that would need to be removed to reduce the graph to a disconnected state.\n",
    ">For each connectivity value (*k*) observed in a given network, there is a unique set of subgroups with this level of structural cohesion.\n",
    "\n",
    "To assess the connectivity of the communities in our study using vertex partitioning techniques, we identify the network's **K-Core** and **Cliques**.\n",
    "\n",
    ">***What Is A K-Core***\n",
    ">\n",
    "> The k-core of a graph is the largest subgraph in which each node has at least k connections. The coreness of a node is k if it is a member of the k-core but not a member of the k + 1-core. The higher the core number, the more embedded the node is in the network and the less vulnerable it is to removal.\n",
    "  \n",
    "  \n",
    ">***What Is A Clique***\n",
    ">\n",
    ">A clique is a subset of nodes where all nodes in the subgraph are connected to each other completely. The largest clique in the network is the clique with the greatest number of nodes that are completely connectied to each other.\n",
    "  \n",
    "  "
   ]
  },
  {
   "cell_type": "markdown",
   "id": "c322c958-b3d1-4a31-9bf6-6de9f74e0c49",
   "metadata": {},
   "source": [
    "#### 2. COMMUNITY DETECTION"
   ]
  },
  {
   "cell_type": "markdown",
   "id": "8179fc33",
   "metadata": {},
   "source": [
    "##### 2.1. Detection\n"
   ]
  },
  {
   "cell_type": "markdown",
   "id": "0f2d4aa7",
   "metadata": {},
   "source": [
    "Finding the optimal solution to detection problems can be somewhat challenging, especially since there can be any number of communities in a given network and each of varying sizes. One method that tries to uncover optimal communities is **modularity optimization**. \n",
    "\n",
    ">***What Is Modularity***\n",
    ">\n",
    ">Modularity is a measure of the number of intra-community ties or within-group ties (relative to the expected number of ties formed when running a random process). The modularity algorithm is optimized such that the nodes inside a community are densely connected within community and sparsely connected between communities.   \n",
    "\n",
    "Maximizing modularity is computationally complex, thus various heuristic approaches are applied when trying to locate good \"local\" maxima of modularity. Even if these heuristics cannot make any guarantees about the true global optimum, it is still good practice to try let the data “tell” you where “good” or “robust” values of gamma or the resolution parameter might be. A good heauristic for optimising the resolution parameter (gamma) is by plotting the number of communities at different values of gamma.\n",
    "\n",
    ">**What is a Resolution Parameter (Gamma)**\n",
    ">\n",
    ">Resolution is a parameter that affects the size of recovered clusters or controls the number of communities detected. Higher resolutions lead to more communities of smaller sized clusters, while lower resolutions lead to fewer communities of larger sized clusters.\n",
    "\n",
    "Two popular modularity-based techniques for uncovering community structure are the **Lovain** and **Leiden** algorithms. The leiden method finds the community structure of the graph using the leiden algorithm of Traag, van Eck & Waltman (2019). It is an adaptation of the louvain method, designed to improve the tendency for the louvain community detection algorithm to discover communities that are internally disconnected (weakly connected communities). \n",
    "\n",
    ">***What is Louvain Method***\n",
    ">\n",
    ">The louvain method is a community structure based on the multilevel algorithm of Blondel et al (2008). This is a bottom-up algorithm that starts with a weighted network of *N* nodes. In the first phase, the algorithm assigns a different community to each node of the network. Then for each node, it considers the neighbours and evaluates the gain of modularity by removing the particular node from the current community and placing it in the neighbour’s community. The node will be placed in the neighbour’s community if the gain is positive and maximized. The node will remain in the same community if there is no positive gain. This process is applied repeatedly and for all nodes until no further improvement is found. The first phase of the louvain algorithm stops when a local maxima of modularity is obtained. In the second phase, the algorithm builds a new network considering communities found in the first phase as nodes. Once the second phase is completed, the algorithm will reapply the first phase to the resulting network. These steps are repeated until there are no changes in the network and maximum modularity is obtained.\n",
    "\n",
    ">***What is Leiden Method***\n",
    ">\n",
    ">The leiden method finds the community structure of the graph using the leiden algorithm of Traag, van Eck & Waltman (2019). It is an adaptation of the louvain method, designed to improve the tendency for the louvain community detection algorithm to discover communities that are internally disconnected (weakly connected communities). \n",
    ">In addition to the phases used in louvain algorithm, leiden uses one more phase which tries to refine the discovered partitions. In the refinement phase, the algorithm tries to identify refined partitions from the partitions proposed by the first phase. Communities proposed by the first phase may further split into multiple partitions in the second phase. The refinement phase does not follow a greedy approach and may merge a node with a randomly chosen community which increases the quality function. This randomness allows discovering the partition space more broadly. Also in the first phase, leiden follows a different approach to the louvain. Instead of visiting all the nodes in the network after the first visit to all nodes has been completed, leiden only visits those nodes whose neighbourhood has changed.\n"
   ]
  },
  {
   "cell_type": "markdown",
   "id": "7347b41d-e02d-49b4-9c41-ddc93a14641c",
   "metadata": {},
   "source": [
    "##### 2.2. Evaluation"
   ]
  },
  {
   "cell_type": "markdown",
   "id": "2846aae3-0dbf-4544-aeee-ed2487e31d97",
   "metadata": {},
   "source": [
    " \n",
    "There are various quantitative measures for comparing two partitions against each other. Some of the most popular are pair counting scores like \"Rand\" and \"adjusted Rand\"; and the various information-theoretic measures like \"variation of information\", \"normalized mutual information\", and \"adjusted mutual information\". \n",
    "\n",
    ">***What is Variation of Information (VI)***\n",
    ">\n",
    ">The variation of information or shared information distance is a measure of the distance between two clusterings (partitions of elements). As a standardised score, the variation of information value ranges between 0 (no correlation) and 1 (perfect correlation).\n",
    "\n",
    ">***What is Adjusted Rand Index (ARI)***\n",
    ">\n",
    ">The adjusted rand index is introduced to determine whether two cluster results are similar to each other. It calculates the similarity between two cluster results by taking all points identified within the same cluster. In general, an ARI value lies between 0 and 1. The index value is equal to 1 only if a partition is completely identical to the intrinsic structure and close to 0 following a random partition.\n",
    "\n",
    ">***What is Normalized Mutual Information (NMI)***\n",
    ">\n",
    ">Normalized mutual information is a measure used to evaluate network partitioning performed by community finding algorithms. Normalized mutual information is a normalisation of the mutual information (MI) score to scale the results between 0 (no mutual information) and 1 (perfect correlation).\n",
    "\n",
    "\t"
   ]
  },
  {
   "cell_type": "markdown",
   "id": "2ab12eaf-abef-446c-bb29-1672d35c72d0",
   "metadata": {},
   "source": [
    "#### 3. COMMUNITY DIFFUSION"
   ]
  },
  {
   "cell_type": "markdown",
   "id": "1ed63160-1013-4dbb-90a9-989170f3515c",
   "metadata": {},
   "source": [
    "\n",
    "When predicting the success of an intervention, product adoption, information gathering in social networks, two main predictions are often made about how communities can affect the diffusion processes. They can either promote diffusion by reinforcing the behaviour, or they can inhibit diffusion by trapping the behaviour. The first assumes a social contagion process where there exists multiple paths or opportunities for exposure, while the second assumes a closed containment process where members of outside populations are excluded from the exposure. To take it a step further, I ask how this impact differs when the diffusion process is introduced by specific users occupying certain roles or positions in the network.\n",
    "\n",
    "There are various approaches to addressing the diffusion of ideas or innovation in complex contagion problems. One way is using a variation of the independent cascade model (IC) called the **independent cascades with community embeddedness and permeability (ICEP) model**. \n",
    "\n",
    ">***What is ICEP model***\n",
    "\n",
    "The **ICEP model** was introduced by Milli and Rossetti in 2019. This model is a combinationof the independent cascades with community embeddedness (ICE) model and independent cascades with permeability (ICP) model, which are both variations of the well-known independent cascade (IC), and it is designed to embed community awareness into the IC model and exploit the idea of permeability. A community is “permeable” to a given content if it permits that content to spread from it fast (or vice-versa, if it permits the content to be easily received from nodes outside the community). Conversely, a community has a low degree of permeability if it dampens the diffusion probability across its border. The probability of the diffusion is therefore calculated based on the degree of community embeddedness and permeability.\n",
    "\n",
    "The ICEP model starts with an initial set of active nodes A0; the diffusive process unfolds in discrete steps according to the following randomized rule:\n",
    "\n",
    "1. When node *v* becomes active in step *t*, it is given a single chance to activate each currently inactive neighbor *u*. If *v* and *u* belong to the same community, the method acts as the ICE model, otherwise as the ICP model.\n",
    "2. If u has multiple newly activated neighbors, their attempts are sequenced in an arbitrary order.\n",
    "3. If *v* succeeds, then *u* will become active in step *t + 1*; but whether or not *v* succeeds, it cannot make any further attempts to activate *u* in subsequent rounds.\n",
    "4. The process runs until no more activations are possible.\n",
    "\n",
    "In summary, **ICEP model** that we use to simulate this process is highly dependent on the community each node is assigned to and the person that initially gets selected to start and the community they belong to."
   ]
  },
  {
   "cell_type": "markdown",
   "id": "368b3472-5cc4-4786-9cc5-821915110b94",
   "metadata": {},
   "source": [
    "##### 3.1. Simulation"
   ]
  },
  {
   "cell_type": "markdown",
   "id": "5154d4c4-215b-4533-8063-94566fe9d838",
   "metadata": {},
   "source": [
    "One key factor determining the diffusion outcome is the cohesion or \"small world\" aspect of communities. If the adoption emanates from communities with a high incident of clustering, then we can expect many redundant ties or a social reinforcement mechanism. If the adoption is started in communities with high average path lengths, then we can expect a slower or contained diffusion process. To estimate this, I simulate the rate and extent of possible diffusion in each community, then trace their diffusion trend using the **ICEP model**. In addition to the diffusion trend, I visualise a snapshot graph showing the infection rate for each simulation. \n"
   ]
  },
  {
   "cell_type": "markdown",
   "id": "1f52d8d2-0bd1-4123-8710-ce55bd1b4493",
   "metadata": {},
   "source": [
    "##### 3.2. Evaluation"
   ]
  },
  {
   "cell_type": "markdown",
   "id": "b1ff4c4b-e683-4ee4-9ef6-1c89ebbb1c85",
   "metadata": {},
   "source": [
    "To determine whether the diffusion process can be enhanced by selectively choosing who receives the information first, I compare outcomes by assigning specific nodes in the network the role of initial seed (first adopter) based on centrality measures of degree, betweeness, and k-coreness. The simulation mechanisms of the 3 positional infection models plus random infection model are presented below.\n",
    "\n",
    "- **Random Adoption**: I evaluate the diffusion process of randomly selected nodes as initial seeds.  \n",
    "\n",
    "- **Popular Adoption**: I evaluate the diffusion process of *popular* types as initial seeds and assess their capacity as central hubs of connectivity, capable of leading a movement and gaining the respect of their peers.\n",
    "\n",
    "- **Bridger Adoption**: I evaluate the diffusion process of *bridger* types as initial seeds and their capacity as bridge links, capable of spreading information reaching distant and isolated users. \n",
    "\n",
    "- **Nested Infection**: I evaluate the diffusion process of *nested* types as initial seeds and their capacity as core members, capable of reinforcing behaviour and ensuring resilience and solidarity. \n",
    "\n"
   ]
  },
  {
   "cell_type": "markdown",
   "id": "8f6a46c7",
   "metadata": {},
   "source": [
    "\n",
    "#### 4. REFERENCES"
   ]
  },
  {
   "cell_type": "markdown",
   "id": "4251b8c4",
   "metadata": {},
   "source": [
    "Goyal, Sanjeev., Connections: An Introduction to the Economics of Networks, Princeton, NJ: Princeton University Press, 2007.\n",
    "\n",
    "Jackson, Matthew O., Social and Economic Networks, Princeton, NJ: Princeton University Press, 2008.\n",
    "\n",
    "Wasserman, Stanley and Faust, Katherine, Social Network Analysis, New York, NY: Cambridge University Press, 2007.\n",
    "\n",
    "Watts, Duncan J., Small Worlds: the dynamics of networks between order and randomness, Princeton, NJ: Princeton University Press, 2005.\n",
    "\n",
    "Blondel, V., Guillaume, J., Lambiotte, R. and Lefebvre, E., 2008. Fast unfolding of communities in large networks. IOPscience.\n",
    "\n",
    "Newman, M. E. J., “Modularity and community structure in networks,” PNAS, 2006, 103 (23), 8577–8582.\n",
    "\n",
    "Newman and M. Girvan, “Finding and evaluating community structure in networks,” Physical Review E, 2004, 69 (2).\n",
    "\n",
    "Newman, M. E. J., \"Fast algorithm for detecting community structure in networks,\" Physical review E, 2004,  69 (6).\n",
    "\n",
    "Traag, V. A., Waltman, L. and van Eck N. J., “From Louvain to Leiden: guaranteeing well-connected communities,” Scientific Reports, 2019, 9 (5233).\n",
    "\n",
    "Moody, J. and White, D. R., \"Structural Cohesion and Embeddedness: A Hierarchical Concept of Social Groups,\" American Sociological Review, 2003, 68 (1), 103-127.\n",
    "\n",
    "Jackson, Matthew O., \"Inequality’s Economic and Social Roots: the Role of Social Networks and Homophily,\" 2022. Draft.\n",
    "\n",
    "Mucha, Peter., \"Community Detection,\" Social Networks and Health Workshop, 2019. Available at: https://sites.duke.edu/dnac/13-community-detection/\n",
    "\n",
    "Moody, J., \"Network Visualisation and Communities,\" Social Networks and Health Workshop, 2019. Available at:  https://sites.duke.edu/dnac/15-network-visualization-and-communities/\n",
    "\n",
    "Jayawickrama, Thamindu Dilshan., \"Community Detection Algorithms,\" Towards Data Science, 2021. Available at: https://towardsdatascience.com/community-detection-algorithms-9bd8951e7dae\n",
    "\n",
    "Noesis, \"Community Detection Algorithms,\" Network-Oriented Exploration, Simulation, and Induction System. Available at: https://noesis.ikor.org/wiki/algorithms/community-detection\n",
    "\n",
    "McNulty, Keith, \"Components, Communities and Cliques\", Handbook of Graphs and Networks in People Analytics, 2022. Available at: https://ona-book.org/community.html\n",
    "\n",
    "Das, Angel, \"Social Network Analysis and Spectral Clustering in Graphs and Networks\", Towards Data Science, 2022. Available at: https://towardsdatascience.com/social-network-analysis-and-spectral-clustering-in-graphs-and-networks-40c8d878e946\n",
    "\n",
    "Doshi, Neerja, \"Spectral clustering: The intuition and math behind how it works!\", Towards Data Science, 2019. Available at: https://towardsdatascience.com/spectral-clustering-82d3cff3d3b7\n",
    "\n",
    "Maklin, Cory, \"Spectral Clustering Algorithm Implemented From Scratch\", Towards Data Science, 2019. Available at: https://towardsdatascience.com/unsupervised-machine-learning-spectral-clustering-algorithm-implemented-from-scratch-in-python-205c87271045\n",
    "\n",
    "Tomar, Anmol, \"Stop Using Elbow Method in K-means Clustering, Instead, Use this!\", Towards Data Science, 2022. Available at:https://towardsdatascience.com/elbow-method-is-not-sufficient-to-find-best-k-in-k-means-clustering-fc820da0631d\n"
   ]
  },
  {
   "cell_type": "code",
   "execution_count": null,
   "id": "9905bc8b-eeba-4e13-870c-879d02d5335e",
   "metadata": {},
   "outputs": [],
   "source": []
  }
 ],
 "metadata": {
  "hide_input": false,
  "kernelspec": {
   "display_name": "Python 3 (ipykernel)",
   "language": "python",
   "name": "python3"
  },
  "language_info": {
   "codemirror_mode": {
    "name": "ipython",
    "version": 3
   },
   "file_extension": ".py",
   "mimetype": "text/x-python",
   "name": "python",
   "nbconvert_exporter": "python",
   "pygments_lexer": "ipython3",
   "version": "3.9.16"
  }
 },
 "nbformat": 4,
 "nbformat_minor": 5
}

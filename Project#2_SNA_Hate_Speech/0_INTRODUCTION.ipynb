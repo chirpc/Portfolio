{
 "cells": [
  {
   "cell_type": "markdown",
   "id": "c454e4e4",
   "metadata": {},
   "source": [
    "-------------------------------------------------------------------\n",
    "\n"
   ]
  },
  {
   "cell_type": "markdown",
   "id": "1fe4c907",
   "metadata": {},
   "source": [
    "# SOCIAL NETWORK ANALYSIS \n",
    "\n",
    "\n",
    "## EXPLORING  SOCIAL BEHAVIOUR THROUGH TWITTER'S DISCOURSE NETWORKS\n",
    "\n"
   ]
  },
  {
   "cell_type": "markdown",
   "id": "63a70b8e",
   "metadata": {},
   "source": [
    "-------------------------------------------------------------------\n",
    "#### CONTEXT\n"
   ]
  },
  {
   "cell_type": "markdown",
   "id": "fb8c3600",
   "metadata": {},
   "source": [
    "Networks form the building blocks of any group of people, organisations, entities; basically anything that can be defined as having a relation. The most familiar of these networks are online social network platforms like Facebook, Instagram, Twitter, LinkedIn, etc., where a link between users is establised through a follow, a comment, a like, or a post. Online social media and associated social networks are increasingly becoming an important forum for public debate and influence of individual attitudes and behaviours. In many cases, the decisive actions required to tackle the complex and divisive issues that permeate society can been found in the perceptions and opinions of those with which these connections are formed.\n",
    "\n",
    "Often the objective of social network analysis is to obtain a better understanding of the behaviour and influence of the systems they represent and the systems they interact with. Ultimately, it is about finding the link between network structure and network function and vice versa. For instance, we can study social networks to better understand the nature of social interactions and their implications for human experience, commerce, the spread of disease, and the structure of society. We can also we study the Internet to better understand the flow of data traffic or why communications protocols function the way they do, or how we might change the network to make it perform better. In most economic, sociological, and psychological research, the value of social networks is ultimately expressed in how the degree to which a group of people are socially connected with each other reinforces beliefs that are commonly held, and how this could help transmit novel information that could change the dynamics of the interaction and potentially alter outcomes.\n",
    "\n",
    "\n",
    "Other research on the role of social networks include:\n",
    "- labour market participation in referral networks and migrant communities;\n",
    "- drug use and school attendance in student networks;\n",
    "- policy views of electoral candidates and coalitions in discourse networks;\n",
    "- advocacy of climate change in social media networks.\n",
    "- spread of infectious diseases and financial crises in contagion networks;\n",
    "- adoption and support of new technologies in global networks and local farming networks;\n",
    "\n",
    "\n"
   ]
  },
  {
   "cell_type": "markdown",
   "id": "159cd106",
   "metadata": {},
   "source": [
    "#### OBJECTIVES\n"
   ]
  },
  {
   "cell_type": "markdown",
   "id": "6006b498",
   "metadata": {},
   "source": [
    "Similar to strategies used in network interventions that rely on the social interactions and relationships that individuals have with each other to facilitate a change in behaviour or promote the adoption of a new idea, this study will explore the nature of social networks in online discourses. Specifically in the discourses of the #Senekal, #Brackenfell and #PutSAFirst movements. Critical to the success of these intervention programmes is knowing and understanding the context of the problem as well as the the people, positions and groups that potentially influence the outcome. The main objectives of this analysis are therefore to:\n",
    "\n",
    "1. Identify key persons of influence based on network properties; \n",
    "2. Detect group structures formed by persons sharing common goals, interests, or positions; and \n",
    "3. Delineate a process in which the spread and adoption of social behaviour is affected by the role or position of the person propagating the discourse. \n",
    "\n",
    "The report is organised as follows:\n",
    "\n",
    "- Part I: Descriptive Analysis\n",
    "- Part II: Community Analysis\n",
    "- Part III: Positional Analysis\n",
    "- Part IV: Diffusion Analysis\n"
   ]
  },
  {
   "cell_type": "markdown",
   "id": "4c685e88",
   "metadata": {},
   "source": [
    "#### FINDINGS\n"
   ]
  },
  {
   "cell_type": "markdown",
   "id": "435e869b",
   "metadata": {},
   "source": [
    "The #Senekal, #Brackenfell and #PutSAFirst movements exhibit similar descriptive properties. Online users in these networks are found to have a tendency or preferential attachment toward popular users. This means a significant proportion of engagements or interactions in the network are with or between those most prominent or central in the discourse. Users in this network also share tighter and closer bonds with each other than would be expected in a random network. In other words, users would rather communicate within a close knit group than to communicate with others outside those groups. This also indicates a greater likelihood of \"echo chambers\", where opposite or contradicting views never enter discussions and are easily dismissed. Naturally, this would limit the ability for ideas to be shared, information to be discredited, and perceptions to be changed. \n",
    "\n",
    "I explore the networks further using community analysis techniques to detect groups or communities of users that share dense connections and have high levels of interaction within the discourse. I find well defined communities in #Senekal and #Brackenfell networks. An interesting finding in the data is the difference in the type of interactions observed between users in each network. In the case of the #Senekal and #Brackenfell movements, the types of interations within or between groups vary as users share views in support or in opposition of the movement, while in the #PutSAFirst network, discussions are much more like an echo chamber where the majority of interactions are between users who share a consensus and sentiment in support of the overall hashtag movement.\n",
    "\n",
    "Next, I present an alternative clustering method and conduct positional analysis using feature based techniques to group users in similar positions or roles based on patterns of interactions and distinct features. Results from the analysis generally revealed 5 distinct clusters. Based on the users assigned to each cluster, I classified them as follows:\n",
    "\n",
    ">Observer Role: Periphery users that are far away from the centre of the discourse and have little participation or involvement.\n",
    ">\n",
    ">Spreader Role: Bridge users that are connected to users in various positions and can easily spread information across the network.\n",
    ">\n",
    ">Activator Role: Active users that reply to tweets and have a high interaction and engagement with other users.\n",
    ">\n",
    ">Informer Role: Public users that have many followers, are publicly listed and have a high global tweet count.\n",
    ">\n",
    ">Leader Role: Popular users that receive many replies to tweets and interact with other important users.\n",
    "\n",
    "The users assigned to each of these roles were fairly consistent across the networks. Typically, members of political parties were positioned in the *Leader* role, and news agencies in the *Informer* role. The most active voices in the discourse, sharing the most tweets, were usually outliers assigned to the *Activator* role, while the least active and most distant were users in the *Observer* role. Active users who held positions in the network that connected distant users were classified in the *Spreader* role.\n",
    "\n",
    "Building from the results of the community and positional analysis sections, I simulate a diffusion model to trace the spread of an idea or behaviour. This section essentially tries to predict the spread of a *meme*, hashtag, or protest movement in online social networks by investigating two main questions: \n",
    "\n",
    "1. Do close knit or dense connections within communities promote diffusion by reinforcing the same social behaviour, or do they inhibit diffusion by trapping the social behaviour in a closed group.\n",
    "2. Does occupying a certain position in a network increase the capacity to spread a social behaviour. \n",
    "\n",
    "Basically, I want to know what would the adoption rate of a new idea or behaviour be within a community and outside a community if a user in the *Leader* role was the initial or early adopter versus a user in the *Observer* role? I define the simulation mechanisms of the 4 positional infection models plus random infection model as follows.\n",
    "\n",
    ">Random Infection: I evaluate the diffusion process of randomly selected nodes as initial seeds and assess their capacity as a baseline or counterfactual.  \n",
    ">\n",
    ">Leader Infection: I evaluate the diffusion process of *Leader* types as initial seeds and assess their capacity as central hubs of authority, capable of leading a movement and gaining the respect of their peers.\n",
    ">\n",
    ">Activator Infection: I evaluate the diffusion process of *Activator* types as initial seeds and assess their capacity as outspoken voices of the movement, capable of inciting activism and support.\n",
    ">\n",
    ">Spreader Infection: I evaluate the diffusion process of *Spreader* types as initial seeds and their capacity as bridge links, capable of reaching distant and isolated users. \n",
    ">\n",
    ">Observer Infection: I evaluate the diffusion process of *Observer* types as initial seeds in their capacity as uninvolved outsiders, capable of bypassing the weight of social pressure and popularism.\n",
    "\n",
    "\n",
    "The simulations show that *Leader*'s generally achieve the widest reach across communities in all networks, followed by *Spreader*, *Activator*, *Random*, and lastly, *Observer*'s. \n",
    "\n",
    "This exercise in diffusion mechanics can be summarised in four main observations:\n",
    "\n",
    "1. Users that occupy certain roles in a network and exhibit key or central network features are better positioned to effectively spread an idea or social behaviour.\n",
    "2. Users that are able to spread an idea or social behaviour within their community and outside their community in early-stages are likely to attain a higher level of diffusion in late-stages.\n",
    "3. Users in close knit communities or groups tend to adopt a certain idea or social behaviour when other users within their communities or groups also adopt that same idea or social behaviour.\n",
    "4. Users in a network that is overall highly clustered benefit from a social reinforcement mechanism or multiplier effect that accelerates the spread of an idea or social behaviour, even if the user spreading the idea is not central or popular.\n",
    "\n",
    "\n"
   ]
  },
  {
   "cell_type": "markdown",
   "id": "9b093e7f",
   "metadata": {},
   "source": [
    "#### CONCLUSION\n"
   ]
  },
  {
   "cell_type": "markdown",
   "id": "8a73b826",
   "metadata": {},
   "source": [
    "Exploratory analysis can only go so far in understanding and predicting the mechanisms that underpin online social behaviour and the pressures inherent in the decision to either support or oppose a movement. Given how frequent these movements have become and how visceral and abhorrent the language of protests is at times, the question of interest is more about finding effective tools to monitor, track, and possibly subvert hate speech in online social media platforms.\n",
    "\n",
    "One intervention strategy not explored by this study is the altering of connections in a network to observe how robust or resilient the network's function remains. This essentially asks how a system behaves while under the threat of an attack. For example, in online social discourses, what is the impact from a suspension or removal of a critical player? Is the movement able to survive or adapt its core activities? Is the attack more effective if rendered in early stages? Is the impact or extent of damage undermined by the social reinforcement mechanisms found in highly clustered networks?\n",
    "\n",
    "These next steps will require the application of machine learning techniques to exploit message content, predict virality, and detect the robustness and resilience of a network.  "
   ]
  },
  {
   "cell_type": "markdown",
   "id": "89615b47",
   "metadata": {},
   "source": [
    "-----------------------------------------------------\n",
    "<p style='text-align: right;'> Analysis By:</p>\n",
    "<p style='text-align: right;'> Patricia Chirwa</p>"
   ]
  }
 ],
 "metadata": {
  "hide_input": false,
  "kernelspec": {
   "display_name": "Python 3 (ipykernel)",
   "language": "python",
   "name": "python3"
  },
  "language_info": {
   "codemirror_mode": {
    "name": "ipython",
    "version": 3
   },
   "file_extension": ".py",
   "mimetype": "text/x-python",
   "name": "python",
   "nbconvert_exporter": "python",
   "pygments_lexer": "ipython3",
   "version": "3.9.13"
  }
 },
 "nbformat": 4,
 "nbformat_minor": 5
}
